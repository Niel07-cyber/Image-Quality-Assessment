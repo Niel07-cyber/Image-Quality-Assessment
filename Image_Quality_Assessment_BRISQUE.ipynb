{
 "cells": [
  {
   "cell_type": "code",
   "execution_count": null,
   "id": "30711f9d",
   "metadata": {},
   "outputs": [],
   "source": [
    "!pip install image-quality opencv-python matplotlib Pillow --quiet\n"
   ]
  },
  {
   "cell_type": "code",
   "execution_count": null,
   "id": "33fdaeb9",
   "metadata": {},
   "outputs": [],
   "source": [
    "import os\n",
    "import cv2\n",
    "import matplotlib.pyplot as plt\n",
    "from PIL import Image\n",
    "from IPython.display import display\n",
    "from imquality import brisque\n"
   ]
  },
  {
   "cell_type": "code",
   "execution_count": null,
   "id": "bb042d07",
   "metadata": {},
   "outputs": [],
   "source": [
    "image_folder = \"images\"\n",
    "valid_exts = (\".jpg\", \".jpeg\", \".png\", \".bmp\", \".JPG\", \".PNG\", \".JPEG\", \".BMP\")\n",
    "\n",
    "image_scores = []\n",
    "\n",
    "if not os.path.isdir(image_folder):\n",
    "    print(f\"❌ Folder not found: {image_folder}\")\n",
    "else:\n",
    "    print(f\"✅ Found folder: {image_folder}\")\n",
    "    print(\"📂 Files found:\", os.listdir(image_folder))\n",
    "\n",
    "    for filename in os.listdir(image_folder):\n",
    "        if filename.endswith(valid_exts):\n",
    "            path = os.path.join(image_folder, filename)\n",
    "            image = cv2.imread(path)\n",
    "            if image is None:\n",
    "                print(f\"❌ Failed to read {filename}\")\n",
    "                continue\n",
    "            image_rgb = cv2.cvtColor(image, cv2.COLOR_BGR2RGB)\n",
    "            score = brisque.score(image_rgb)\n",
    "            image_scores.append((filename, score))\n",
    "\n",
    "            display(Image.fromarray(image_rgb))\n",
    "            print(f\"📊 {filename}: BRISQUE Score = {score:.2f}\")\n"
   ]
  },
  {
   "cell_type": "code",
   "execution_count": null,
   "id": "94b0296c",
   "metadata": {},
   "outputs": [],
   "source": [
    "if image_scores:\n",
    "    names, scores = zip(*image_scores)\n",
    "    plt.figure(figsize=(10, 5))\n",
    "    plt.bar(names, scores, color='skyblue')\n",
    "    plt.xlabel(\"Image\")\n",
    "    plt.ylabel(\"BRISQUE Score (Lower is Better)\")\n",
    "    plt.title(\"Image Quality Assessment\")\n",
    "    plt.xticks(rotation=45)\n",
    "    plt.tight_layout()\n",
    "    plt.show()\n",
    "else:\n",
    "    print(\"⚠️ No images scored.\")\n"
   ]
  }
 ],
 "metadata": {},
 "nbformat": 4,
 "nbformat_minor": 5
}